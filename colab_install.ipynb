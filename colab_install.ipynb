{
  "cells": [
    {
      "cell_type": "code",
      "execution_count": null,
      "metadata": {
        "id": "qibM9kYhQ1uw"
      },
      "outputs": [],
      "source": [
        "%%bash\n",
        "# install dependencies\n",
        "DEBIAN_FRONTEND=noninteractive sudo add-apt-repository ppa:ubuntugis/ubuntugis-unstable && apt update && apt install grass subversion grass-dev parallel libglu1-mesa-dev xvfb && apt remove libproj22\n",
        "\n",
        "pip install PyVirtualDisplay\n",
        "\n",
        "cd ~\n",
        "\n",
        "# download sample data\n",
        "mkdir -p grassdata\n",
        "curl -SL https://grass.osgeo.org/sampledata/north_carolina/nc_spm_08_grass7.zip > nc_spm_08_grass7.zip\n",
        "unzip -qq nc_spm_08_grass7.zip\n",
        "mv nc_spm_08_grass7 grassdata\n",
        "rm nc_spm_08_grass7.zip\n",
        "wget https://zenodo.org/record/6967699/files/FOSS4G_2022_GRASS_GIS_workshop.zip\n",
        "unzip FOSS4G_2022_GRASS_GIS_workshop.zip\n",
        "rm FOSS4G_2022_GRASS_GIS_workshop.zip"
      ]
    },
    {
      "cell_type": "code",
      "source": [
        "import os\n",
        "os.chdir(os.path.expanduser(\"~\"))"
      ],
      "metadata": {
        "id": "grt_FB6epyVk"
      },
      "execution_count": null,
      "outputs": []
    }
  ],
  "metadata": {
    "colab": {
      "name": "Untitled3.ipynb",
      "provenance": []
    },
    "kernelspec": {
      "display_name": "Python 3",
      "name": "python3"
    },
    "language_info": {
      "name": "python"
    }
  },
  "nbformat": 4,
  "nbformat_minor": 0
}